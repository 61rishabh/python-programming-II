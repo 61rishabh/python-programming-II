{
  "nbformat": 4,
  "nbformat_minor": 0,
  "metadata": {
    "colab": {
      "name": "Untitled1.ipynb",
      "provenance": []
    },
    "kernelspec": {
      "name": "python3",
      "display_name": "Python 3"
    },
    "language_info": {
      "name": "python"
    }
  },
  "cells": [
    {
      "cell_type": "code",
      "source": [
        ""
      ],
      "metadata": {
        "id": "nWP_Ti_mYpGo"
      },
      "execution_count": null,
      "outputs": []
    },
    {
      "cell_type": "markdown",
      "source": [
        "ASSIGNMENT 1 \n",
        "\n",
        "\n",
        "SECTION A\n",
        "1. Write a python programme to print \"hello python\" "
      ],
      "metadata": {
        "id": "6rBhYmLIYuF7"
      }
    },
    {
      "cell_type": "code",
      "source": [
        "a=\"hello python\""
      ],
      "metadata": {
        "id": "hooJrhY-ZEfv"
      },
      "execution_count": null,
      "outputs": []
    },
    {
      "cell_type": "code",
      "source": [
        "a"
      ],
      "metadata": {
        "colab": {
          "base_uri": "https://localhost:8080/",
          "height": 36
        },
        "id": "wNHGR7sTZbJl",
        "outputId": "7c8521a8-7d96-4cc7-b0eb-030133b50b30"
      },
      "execution_count": null,
      "outputs": [
        {
          "output_type": "execute_result",
          "data": {
            "text/plain": [
              "'hello python'"
            ],
            "application/vnd.google.colaboratory.intrinsic+json": {
              "type": "string"
            }
          },
          "metadata": {},
          "execution_count": 3
        }
      ]
    },
    {
      "cell_type": "markdown",
      "source": [
        "2.Write a python programme to do arithmetical operations that is addition and division\n"
      ],
      "metadata": {
        "id": "YtknVEsQZpo9"
      }
    },
    {
      "cell_type": "code",
      "source": [
        "a=5\n"
      ],
      "metadata": {
        "id": "2fiGM1jmaL7o"
      },
      "execution_count": null,
      "outputs": []
    },
    {
      "cell_type": "code",
      "source": [
        "b=2.5\n"
      ],
      "metadata": {
        "id": "NX-xVNUjaRD4"
      },
      "execution_count": null,
      "outputs": []
    },
    {
      "cell_type": "code",
      "source": [
        "a+b"
      ],
      "metadata": {
        "colab": {
          "base_uri": "https://localhost:8080/"
        },
        "id": "0XcJsrJMaVD5",
        "outputId": "de8375f6-f704-4463-e583-788a3afaa134"
      },
      "execution_count": null,
      "outputs": [
        {
          "output_type": "execute_result",
          "data": {
            "text/plain": [
              "7.5"
            ]
          },
          "metadata": {},
          "execution_count": 6
        }
      ]
    },
    {
      "cell_type": "code",
      "source": [
        "a-b"
      ],
      "metadata": {
        "colab": {
          "base_uri": "https://localhost:8080/"
        },
        "id": "UC72wxV7abor",
        "outputId": "31dfe455-790a-4516-c63e-e8709daed6e7"
      },
      "execution_count": null,
      "outputs": [
        {
          "output_type": "execute_result",
          "data": {
            "text/plain": [
              "2.5"
            ]
          },
          "metadata": {},
          "execution_count": 7
        }
      ]
    },
    {
      "cell_type": "code",
      "source": [
        "a*b"
      ],
      "metadata": {
        "colab": {
          "base_uri": "https://localhost:8080/"
        },
        "id": "G6H_CSt3ad5k",
        "outputId": "2842a3e2-bfac-4bff-bd3d-7faa020f4ebf"
      },
      "execution_count": null,
      "outputs": [
        {
          "output_type": "execute_result",
          "data": {
            "text/plain": [
              "12.5"
            ]
          },
          "metadata": {},
          "execution_count": 8
        }
      ]
    },
    {
      "cell_type": "code",
      "source": [
        "a/b"
      ],
      "metadata": {
        "colab": {
          "base_uri": "https://localhost:8080/"
        },
        "id": "I9tcg__JagK6",
        "outputId": "1b78631a-a674-42b5-e6ec-1363673ac98c"
      },
      "execution_count": null,
      "outputs": [
        {
          "output_type": "execute_result",
          "data": {
            "text/plain": [
              "2.0"
            ]
          },
          "metadata": {},
          "execution_count": 9
        }
      ]
    },
    {
      "cell_type": "markdown",
      "source": [
        "3. Write a python programme to find area of a triangle "
      ],
      "metadata": {
        "id": "JkLxyyPgajZj"
      }
    },
    {
      "cell_type": "code",
      "source": [
        "l=10"
      ],
      "metadata": {
        "id": "FTJuuUB9a5yV"
      },
      "execution_count": null,
      "outputs": []
    },
    {
      "cell_type": "code",
      "source": [
        "b=5"
      ],
      "metadata": {
        "id": "mbSX9u1XbCne"
      },
      "execution_count": null,
      "outputs": []
    },
    {
      "cell_type": "code",
      "source": [
        "area=0.5*l*b"
      ],
      "metadata": {
        "id": "JU6P3ue7bCya"
      },
      "execution_count": null,
      "outputs": []
    },
    {
      "cell_type": "code",
      "source": [
        "area"
      ],
      "metadata": {
        "colab": {
          "base_uri": "https://localhost:8080/"
        },
        "id": "ioaM-g_1bN1d",
        "outputId": "5a1fca49-b842-4265-95ea-5489320f11ba"
      },
      "execution_count": null,
      "outputs": [
        {
          "output_type": "execute_result",
          "data": {
            "text/plain": [
              "25.0"
            ]
          },
          "metadata": {},
          "execution_count": 13
        }
      ]
    },
    {
      "cell_type": "markdown",
      "source": [
        "  4. Write a python programme to swap to variables"
      ],
      "metadata": {
        "id": "ghdfufG1bRYq"
      }
    },
    {
      "cell_type": "code",
      "source": [
        "s=10"
      ],
      "metadata": {
        "id": "tEI653Xjbe4-"
      },
      "execution_count": null,
      "outputs": []
    },
    {
      "cell_type": "code",
      "source": [
        "r=5"
      ],
      "metadata": {
        "id": "qoifWhoPbmve"
      },
      "execution_count": null,
      "outputs": []
    },
    {
      "cell_type": "code",
      "source": [
        "temp=s"
      ],
      "metadata": {
        "id": "AonVr8ubboGM"
      },
      "execution_count": null,
      "outputs": []
    },
    {
      "cell_type": "code",
      "source": [
        "s=r"
      ],
      "metadata": {
        "id": "vt-hmEsybumI"
      },
      "execution_count": null,
      "outputs": []
    },
    {
      "cell_type": "code",
      "source": [
        "y=temp"
      ],
      "metadata": {
        "id": "OIBBK-1Dbvmd"
      },
      "execution_count": null,
      "outputs": []
    },
    {
      "cell_type": "code",
      "source": [
        "(format(s))"
      ],
      "metadata": {
        "colab": {
          "base_uri": "https://localhost:8080/",
          "height": 36
        },
        "id": "kT-DZdfebzZr",
        "outputId": "35deca36-7534-4067-9b9f-1883436b9d21"
      },
      "execution_count": null,
      "outputs": [
        {
          "output_type": "execute_result",
          "data": {
            "text/plain": [
              "'5'"
            ],
            "application/vnd.google.colaboratory.intrinsic+json": {
              "type": "string"
            }
          },
          "metadata": {},
          "execution_count": 19
        }
      ]
    },
    {
      "cell_type": "markdown",
      "source": [
        "5. Write a python programme to generate a random number"
      ],
      "metadata": {
        "id": "DXMmN-Spb_rY"
      }
    },
    {
      "cell_type": "code",
      "source": [
        "import random"
      ],
      "metadata": {
        "id": "EqsDSyJAcJ6X"
      },
      "execution_count": null,
      "outputs": []
    },
    {
      "cell_type": "code",
      "source": [
        "num=random.random()"
      ],
      "metadata": {
        "id": "t_CikLvdcPd3"
      },
      "execution_count": null,
      "outputs": []
    },
    {
      "cell_type": "code",
      "source": [
        "num"
      ],
      "metadata": {
        "colab": {
          "base_uri": "https://localhost:8080/"
        },
        "id": "WAvSqsmWcUqm",
        "outputId": "1b00e243-76d8-447f-b043-f589d6429446"
      },
      "execution_count": null,
      "outputs": [
        {
          "output_type": "execute_result",
          "data": {
            "text/plain": [
              "0.7209349575494096"
            ]
          },
          "metadata": {},
          "execution_count": 22
        }
      ]
    },
    {
      "cell_type": "markdown",
      "source": [
        "SECTION B "
      ],
      "metadata": {
        "id": "QSifR2fTcYrJ"
      }
    },
    {
      "cell_type": "markdown",
      "source": [
        "1.Write a python programme to convert kilometers to miles "
      ],
      "metadata": {
        "id": "Z4vOQFNhchDS"
      }
    },
    {
      "cell_type": "code",
      "source": [
        "km=50"
      ],
      "metadata": {
        "id": "JcK8MkZNcti2"
      },
      "execution_count": null,
      "outputs": []
    },
    {
      "cell_type": "code",
      "source": [
        "conv_fac=0.621371"
      ],
      "metadata": {
        "id": "WBTlUyhZc0l2"
      },
      "execution_count": null,
      "outputs": []
    },
    {
      "cell_type": "code",
      "source": [
        "miles=km*conv_fac"
      ],
      "metadata": {
        "id": "OHZZU3wHc9pg"
      },
      "execution_count": null,
      "outputs": []
    },
    {
      "cell_type": "code",
      "source": [
        "miles"
      ],
      "metadata": {
        "colab": {
          "base_uri": "https://localhost:8080/"
        },
        "id": "2PhiETc-dDl2",
        "outputId": "58b3a862-aaa1-4b04-cee5-ee708489bb36"
      },
      "execution_count": null,
      "outputs": [
        {
          "output_type": "execute_result",
          "data": {
            "text/plain": [
              "31.068550000000002"
            ]
          },
          "metadata": {},
          "execution_count": 26
        }
      ]
    },
    {
      "cell_type": "markdown",
      "source": [
        "2. Write a python programme to convert celsius to fahrenheit"
      ],
      "metadata": {
        "id": "bx5XMJwrdJhY"
      }
    },
    {
      "cell_type": "code",
      "source": [
        "c=100"
      ],
      "metadata": {
        "id": "qaHit8jndXyg"
      },
      "execution_count": null,
      "outputs": []
    },
    {
      "cell_type": "code",
      "source": [
        "f=(c*1.8)+32"
      ],
      "metadata": {
        "id": "EfJFBEv3dboQ"
      },
      "execution_count": null,
      "outputs": []
    },
    {
      "cell_type": "code",
      "source": [
        "f"
      ],
      "metadata": {
        "colab": {
          "base_uri": "https://localhost:8080/"
        },
        "id": "Mudw6k8zdi0I",
        "outputId": "7f35bca5-5cf4-4c6f-a9a8-f72f685e9089"
      },
      "execution_count": null,
      "outputs": [
        {
          "output_type": "execute_result",
          "data": {
            "text/plain": [
              "212.0"
            ]
          },
          "metadata": {},
          "execution_count": 29
        }
      ]
    },
    {
      "cell_type": "markdown",
      "source": [
        "3. Write a python programme to display calendar"
      ],
      "metadata": {
        "id": "4yEx1KiAdoV2"
      }
    },
    {
      "cell_type": "code",
      "source": [
        "import calendar"
      ],
      "metadata": {
        "id": "S1abrB8Yd0g-"
      },
      "execution_count": null,
      "outputs": []
    },
    {
      "cell_type": "code",
      "source": [
        "yy=2022"
      ],
      "metadata": {
        "id": "1kJANoGmeCy3"
      },
      "execution_count": null,
      "outputs": []
    },
    {
      "cell_type": "code",
      "source": [
        "mm =8"
      ],
      "metadata": {
        "id": "VVDw1ZfweEM-"
      },
      "execution_count": null,
      "outputs": []
    },
    {
      "cell_type": "code",
      "source": [
        "dd=20"
      ],
      "metadata": {
        "id": "S902BkedeGVA"
      },
      "execution_count": null,
      "outputs": []
    },
    {
      "cell_type": "code",
      "source": [
        "(calendar.month(yy,mm,dd))"
      ],
      "metadata": {
        "colab": {
          "base_uri": "https://localhost:8080/",
          "height": 105
        },
        "id": "ijB15MGAeJZq",
        "outputId": "dcf9d8f6-a893-43ec-fe3a-f57f6398c882"
      },
      "execution_count": null,
      "outputs": [
        {
          "output_type": "execute_result",
          "data": {
            "text/plain": [
              "'                                                                   August 2022\\n       Monday              Tuesday             Wednesday             Thursday              Friday              Saturday              Sunday\\n          1                    2                    3                    4                    5                    6                    7\\n          8                    9                   10                   11                   12                   13                   14\\n         15                   16                   17                   18                   19                   20                   21\\n         22                   23                   24                   25                   26                   27                   28\\n         29                   30                   31\\n'"
            ],
            "application/vnd.google.colaboratory.intrinsic+json": {
              "type": "string"
            }
          },
          "metadata": {},
          "execution_count": 38
        }
      ]
    },
    {
      "cell_type": "markdown",
      "source": [
        "4. Write a python programme to solve quadratic equation."
      ],
      "metadata": {
        "id": "7DWgOrNoermJ"
      }
    },
    {
      "cell_type": "code",
      "source": [
        "a=5"
      ],
      "metadata": {
        "id": "wu71HyQre-Lf"
      },
      "execution_count": null,
      "outputs": []
    },
    {
      "cell_type": "code",
      "source": [
        "b=10"
      ],
      "metadata": {
        "id": "0YeYk8l5fIOu"
      },
      "execution_count": null,
      "outputs": []
    },
    {
      "cell_type": "code",
      "source": [
        "c=2"
      ],
      "metadata": {
        "id": "hFiYuB6ufJVS"
      },
      "execution_count": null,
      "outputs": []
    },
    {
      "cell_type": "code",
      "source": [
        "z=(b**2)-(4*a*c)"
      ],
      "metadata": {
        "id": "y8yk0BtgfKr7"
      },
      "execution_count": null,
      "outputs": []
    },
    {
      "cell_type": "code",
      "source": [
        "z"
      ],
      "metadata": {
        "colab": {
          "base_uri": "https://localhost:8080/"
        },
        "id": "fVD8pLnSfYGu",
        "outputId": "72d09fcd-f288-4267-919e-b93e4714ecdc"
      },
      "execution_count": null,
      "outputs": [
        {
          "output_type": "execute_result",
          "data": {
            "text/plain": [
              "60"
            ]
          },
          "metadata": {},
          "execution_count": 43
        }
      ]
    },
    {
      "cell_type": "markdown",
      "source": [
        "5. Write a python programme to swap to variables without temp variable"
      ],
      "metadata": {
        "id": "FheyxPqffae5"
      }
    },
    {
      "cell_type": "code",
      "source": [
        "x=20"
      ],
      "metadata": {
        "id": "dMlhCnJYf2xO"
      },
      "execution_count": 44,
      "outputs": []
    },
    {
      "cell_type": "code",
      "source": [
        "y=10"
      ],
      "metadata": {
        "id": "8hmUxpkHgH72"
      },
      "execution_count": 45,
      "outputs": []
    },
    {
      "cell_type": "code",
      "source": [
        "x=x+y"
      ],
      "metadata": {
        "id": "Vz7_J16rgJNw"
      },
      "execution_count": 46,
      "outputs": []
    },
    {
      "cell_type": "code",
      "source": [
        "y=x-y"
      ],
      "metadata": {
        "id": "0V_ZSXSYgL-v"
      },
      "execution_count": 47,
      "outputs": []
    },
    {
      "cell_type": "code",
      "source": [
        "x=x-y"
      ],
      "metadata": {
        "id": "V55WgrGNgOpL"
      },
      "execution_count": 48,
      "outputs": []
    },
    {
      "cell_type": "code",
      "source": [
        "(\"after swapping:\",\"x=\",x,\"y=\",y )"
      ],
      "metadata": {
        "colab": {
          "base_uri": "https://localhost:8080/"
        },
        "id": "1FnZ9lIqgVS0",
        "outputId": "3781b6e7-ad53-4574-ad9e-07e7e478b1fa"
      },
      "execution_count": 49,
      "outputs": [
        {
          "output_type": "execute_result",
          "data": {
            "text/plain": [
              "('after swapping:', 'x=', 10, 'y=', 20)"
            ]
          },
          "metadata": {},
          "execution_count": 49
        }
      ]
    },
    {
      "cell_type": "markdown",
      "source": [
        "SECTION C"
      ],
      "metadata": {
        "id": "eiURoe-0g69c"
      }
    },
    {
      "cell_type": "markdown",
      "source": [
        "1. Write a python programme to check if the number is positive ,negative or zero"
      ],
      "metadata": {
        "id": "Xv4AqhXShA2E"
      }
    },
    {
      "cell_type": "code",
      "source": [
        "num=float(input(\"enter the number:\"))\n",
        "if num>0:\n",
        "  print(\"positive number\")\n",
        "elif num<0:\n",
        "  print(\"negative number\")\n",
        "else:\n",
        "  print(\"zero\")    "
      ],
      "metadata": {
        "colab": {
          "base_uri": "https://localhost:8080/"
        },
        "id": "e_usYnieiJp9",
        "outputId": "e9e36154-7594-488e-ff40-c88951adb951"
      },
      "execution_count": 57,
      "outputs": [
        {
          "output_type": "stream",
          "name": "stdout",
          "text": [
            "enter the number:123\n",
            "positive number\n"
          ]
        }
      ]
    },
    {
      "cell_type": "markdown",
      "source": [
        "2.  Write a python programme to check if the number is odd or even "
      ],
      "metadata": {
        "id": "rwRdY8k3j7Tz"
      }
    },
    {
      "cell_type": "code",
      "source": [
        "number=int(input(\"ënter the number\"))\n",
        "if (number%2)==0:\n",
        "  print(\"number is even\")\n",
        "else:\n",
        "  print(\"number is odd\")  "
      ],
      "metadata": {
        "colab": {
          "base_uri": "https://localhost:8080/"
        },
        "id": "jdcGxw3ukRQB",
        "outputId": "2a8e253a-4fdc-47a1-9edf-acfe70031ecb"
      },
      "execution_count": 60,
      "outputs": [
        {
          "output_type": "stream",
          "name": "stdout",
          "text": [
            "ënter the number10\n",
            "number is even\n"
          ]
        }
      ]
    },
    {
      "cell_type": "markdown",
      "source": [
        "3. Write a python programme to check a leap year"
      ],
      "metadata": {
        "id": "CRV5vwt-l8Hl"
      }
    },
    {
      "cell_type": "code",
      "source": [
        "year= 2022\n",
        "if(year% 400==0) and (year% 100==0):\n",
        "  print(\"{0} is leap year\".format(year))\n",
        "elif(year% 4==0)  and(year% 100==0):\n",
        "  print(\"{0} is leap year\".format(year))\n",
        "else:\n",
        "  print(\"{0} is not a leap year\".format(year))  "
      ],
      "metadata": {
        "colab": {
          "base_uri": "https://localhost:8080/"
        },
        "id": "YUnmhxWgmSRp",
        "outputId": "ad7f0ff1-c669-4597-ee27-6c1307a92d3f"
      },
      "execution_count": 61,
      "outputs": [
        {
          "output_type": "stream",
          "name": "stdout",
          "text": [
            "2022 is not a leap year\n"
          ]
        }
      ]
    },
    {
      "cell_type": "markdown",
      "source": [
        "4.  Write a python programme to check prime number"
      ],
      "metadata": {
        "id": "mDvFTC_uqHVG"
      }
    },
    {
      "cell_type": "code",
      "source": [
        "num=30\n",
        "f= False\n",
        "if num>1:\n",
        "  for i in range(2,num):\n",
        "    if (num%i)==0:\n",
        "      f= True\n",
        "      break\n",
        "if f:\n",
        "  print(\"num is not a prime number\")\n",
        "else:\n",
        "  print(\"num is prime number\")        "
      ],
      "metadata": {
        "colab": {
          "base_uri": "https://localhost:8080/"
        },
        "id": "3S2iS4bNrRiL",
        "outputId": "e1dd5ef7-84c1-4ddf-db1e-085691fdf3f0"
      },
      "execution_count": 64,
      "outputs": [
        {
          "output_type": "stream",
          "name": "stdout",
          "text": [
            "num is not a prime number\n"
          ]
        }
      ]
    },
    {
      "cell_type": "markdown",
      "source": [
        "5. Write a python programme to print all prime numbers in interval of 1-10000"
      ],
      "metadata": {
        "id": "xOVS3BROsoUH"
      }
    },
    {
      "cell_type": "code",
      "source": [
        "def prime(x,y):\n",
        "  prime_list=[]\n",
        "  for i in range (x,y):\n",
        "    if i==0 or i==1:\n",
        "      continue\n",
        "    else:\n",
        "      for j in range (2,int(i/2)+1):\n",
        "        if i%j==0:\n",
        "          break\n",
        "      else:\n",
        "        prime_list.append(i)       \n",
        "  return prime_list\n",
        "\n",
        "starting_range=1\n",
        "ending_range=10000\n",
        "lst= prime(starting_range, ending_range)   \n",
        "if len(lst)==0:\n",
        "  print(\"there are no prime numbers in this range \") \n",
        "else:\n",
        "  print(\"the prime number in this range are:\",lst)  "
      ],
      "metadata": {
        "colab": {
          "base_uri": "https://localhost:8080/"
        },
        "id": "OxXxiuixtGMD",
        "outputId": "52aec653-0b0c-4e92-e712-fbb12f2173b1"
      },
      "execution_count": 70,
      "outputs": [
        {
          "output_type": "stream",
          "name": "stdout",
          "text": [
            "the prime number in this range are: [2, 3, 5, 7, 11, 13, 17, 19, 23, 29, 31, 37, 41, 43, 47, 53, 59, 61, 67, 71, 73, 79, 83, 89, 97, 101, 103, 107, 109, 113, 127, 131, 137, 139, 149, 151, 157, 163, 167, 173, 179, 181, 191, 193, 197, 199, 211, 223, 227, 229, 233, 239, 241, 251, 257, 263, 269, 271, 277, 281, 283, 293, 307, 311, 313, 317, 331, 337, 347, 349, 353, 359, 367, 373, 379, 383, 389, 397, 401, 409, 419, 421, 431, 433, 439, 443, 449, 457, 461, 463, 467, 479, 487, 491, 499, 503, 509, 521, 523, 541, 547, 557, 563, 569, 571, 577, 587, 593, 599, 601, 607, 613, 617, 619, 631, 641, 643, 647, 653, 659, 661, 673, 677, 683, 691, 701, 709, 719, 727, 733, 739, 743, 751, 757, 761, 769, 773, 787, 797, 809, 811, 821, 823, 827, 829, 839, 853, 857, 859, 863, 877, 881, 883, 887, 907, 911, 919, 929, 937, 941, 947, 953, 967, 971, 977, 983, 991, 997, 1009, 1013, 1019, 1021, 1031, 1033, 1039, 1049, 1051, 1061, 1063, 1069, 1087, 1091, 1093, 1097, 1103, 1109, 1117, 1123, 1129, 1151, 1153, 1163, 1171, 1181, 1187, 1193, 1201, 1213, 1217, 1223, 1229, 1231, 1237, 1249, 1259, 1277, 1279, 1283, 1289, 1291, 1297, 1301, 1303, 1307, 1319, 1321, 1327, 1361, 1367, 1373, 1381, 1399, 1409, 1423, 1427, 1429, 1433, 1439, 1447, 1451, 1453, 1459, 1471, 1481, 1483, 1487, 1489, 1493, 1499, 1511, 1523, 1531, 1543, 1549, 1553, 1559, 1567, 1571, 1579, 1583, 1597, 1601, 1607, 1609, 1613, 1619, 1621, 1627, 1637, 1657, 1663, 1667, 1669, 1693, 1697, 1699, 1709, 1721, 1723, 1733, 1741, 1747, 1753, 1759, 1777, 1783, 1787, 1789, 1801, 1811, 1823, 1831, 1847, 1861, 1867, 1871, 1873, 1877, 1879, 1889, 1901, 1907, 1913, 1931, 1933, 1949, 1951, 1973, 1979, 1987, 1993, 1997, 1999, 2003, 2011, 2017, 2027, 2029, 2039, 2053, 2063, 2069, 2081, 2083, 2087, 2089, 2099, 2111, 2113, 2129, 2131, 2137, 2141, 2143, 2153, 2161, 2179, 2203, 2207, 2213, 2221, 2237, 2239, 2243, 2251, 2267, 2269, 2273, 2281, 2287, 2293, 2297, 2309, 2311, 2333, 2339, 2341, 2347, 2351, 2357, 2371, 2377, 2381, 2383, 2389, 2393, 2399, 2411, 2417, 2423, 2437, 2441, 2447, 2459, 2467, 2473, 2477, 2503, 2521, 2531, 2539, 2543, 2549, 2551, 2557, 2579, 2591, 2593, 2609, 2617, 2621, 2633, 2647, 2657, 2659, 2663, 2671, 2677, 2683, 2687, 2689, 2693, 2699, 2707, 2711, 2713, 2719, 2729, 2731, 2741, 2749, 2753, 2767, 2777, 2789, 2791, 2797, 2801, 2803, 2819, 2833, 2837, 2843, 2851, 2857, 2861, 2879, 2887, 2897, 2903, 2909, 2917, 2927, 2939, 2953, 2957, 2963, 2969, 2971, 2999, 3001, 3011, 3019, 3023, 3037, 3041, 3049, 3061, 3067, 3079, 3083, 3089, 3109, 3119, 3121, 3137, 3163, 3167, 3169, 3181, 3187, 3191, 3203, 3209, 3217, 3221, 3229, 3251, 3253, 3257, 3259, 3271, 3299, 3301, 3307, 3313, 3319, 3323, 3329, 3331, 3343, 3347, 3359, 3361, 3371, 3373, 3389, 3391, 3407, 3413, 3433, 3449, 3457, 3461, 3463, 3467, 3469, 3491, 3499, 3511, 3517, 3527, 3529, 3533, 3539, 3541, 3547, 3557, 3559, 3571, 3581, 3583, 3593, 3607, 3613, 3617, 3623, 3631, 3637, 3643, 3659, 3671, 3673, 3677, 3691, 3697, 3701, 3709, 3719, 3727, 3733, 3739, 3761, 3767, 3769, 3779, 3793, 3797, 3803, 3821, 3823, 3833, 3847, 3851, 3853, 3863, 3877, 3881, 3889, 3907, 3911, 3917, 3919, 3923, 3929, 3931, 3943, 3947, 3967, 3989, 4001, 4003, 4007, 4013, 4019, 4021, 4027, 4049, 4051, 4057, 4073, 4079, 4091, 4093, 4099, 4111, 4127, 4129, 4133, 4139, 4153, 4157, 4159, 4177, 4201, 4211, 4217, 4219, 4229, 4231, 4241, 4243, 4253, 4259, 4261, 4271, 4273, 4283, 4289, 4297, 4327, 4337, 4339, 4349, 4357, 4363, 4373, 4391, 4397, 4409, 4421, 4423, 4441, 4447, 4451, 4457, 4463, 4481, 4483, 4493, 4507, 4513, 4517, 4519, 4523, 4547, 4549, 4561, 4567, 4583, 4591, 4597, 4603, 4621, 4637, 4639, 4643, 4649, 4651, 4657, 4663, 4673, 4679, 4691, 4703, 4721, 4723, 4729, 4733, 4751, 4759, 4783, 4787, 4789, 4793, 4799, 4801, 4813, 4817, 4831, 4861, 4871, 4877, 4889, 4903, 4909, 4919, 4931, 4933, 4937, 4943, 4951, 4957, 4967, 4969, 4973, 4987, 4993, 4999, 5003, 5009, 5011, 5021, 5023, 5039, 5051, 5059, 5077, 5081, 5087, 5099, 5101, 5107, 5113, 5119, 5147, 5153, 5167, 5171, 5179, 5189, 5197, 5209, 5227, 5231, 5233, 5237, 5261, 5273, 5279, 5281, 5297, 5303, 5309, 5323, 5333, 5347, 5351, 5381, 5387, 5393, 5399, 5407, 5413, 5417, 5419, 5431, 5437, 5441, 5443, 5449, 5471, 5477, 5479, 5483, 5501, 5503, 5507, 5519, 5521, 5527, 5531, 5557, 5563, 5569, 5573, 5581, 5591, 5623, 5639, 5641, 5647, 5651, 5653, 5657, 5659, 5669, 5683, 5689, 5693, 5701, 5711, 5717, 5737, 5741, 5743, 5749, 5779, 5783, 5791, 5801, 5807, 5813, 5821, 5827, 5839, 5843, 5849, 5851, 5857, 5861, 5867, 5869, 5879, 5881, 5897, 5903, 5923, 5927, 5939, 5953, 5981, 5987, 6007, 6011, 6029, 6037, 6043, 6047, 6053, 6067, 6073, 6079, 6089, 6091, 6101, 6113, 6121, 6131, 6133, 6143, 6151, 6163, 6173, 6197, 6199, 6203, 6211, 6217, 6221, 6229, 6247, 6257, 6263, 6269, 6271, 6277, 6287, 6299, 6301, 6311, 6317, 6323, 6329, 6337, 6343, 6353, 6359, 6361, 6367, 6373, 6379, 6389, 6397, 6421, 6427, 6449, 6451, 6469, 6473, 6481, 6491, 6521, 6529, 6547, 6551, 6553, 6563, 6569, 6571, 6577, 6581, 6599, 6607, 6619, 6637, 6653, 6659, 6661, 6673, 6679, 6689, 6691, 6701, 6703, 6709, 6719, 6733, 6737, 6761, 6763, 6779, 6781, 6791, 6793, 6803, 6823, 6827, 6829, 6833, 6841, 6857, 6863, 6869, 6871, 6883, 6899, 6907, 6911, 6917, 6947, 6949, 6959, 6961, 6967, 6971, 6977, 6983, 6991, 6997, 7001, 7013, 7019, 7027, 7039, 7043, 7057, 7069, 7079, 7103, 7109, 7121, 7127, 7129, 7151, 7159, 7177, 7187, 7193, 7207, 7211, 7213, 7219, 7229, 7237, 7243, 7247, 7253, 7283, 7297, 7307, 7309, 7321, 7331, 7333, 7349, 7351, 7369, 7393, 7411, 7417, 7433, 7451, 7457, 7459, 7477, 7481, 7487, 7489, 7499, 7507, 7517, 7523, 7529, 7537, 7541, 7547, 7549, 7559, 7561, 7573, 7577, 7583, 7589, 7591, 7603, 7607, 7621, 7639, 7643, 7649, 7669, 7673, 7681, 7687, 7691, 7699, 7703, 7717, 7723, 7727, 7741, 7753, 7757, 7759, 7789, 7793, 7817, 7823, 7829, 7841, 7853, 7867, 7873, 7877, 7879, 7883, 7901, 7907, 7919, 7927, 7933, 7937, 7949, 7951, 7963, 7993, 8009, 8011, 8017, 8039, 8053, 8059, 8069, 8081, 8087, 8089, 8093, 8101, 8111, 8117, 8123, 8147, 8161, 8167, 8171, 8179, 8191, 8209, 8219, 8221, 8231, 8233, 8237, 8243, 8263, 8269, 8273, 8287, 8291, 8293, 8297, 8311, 8317, 8329, 8353, 8363, 8369, 8377, 8387, 8389, 8419, 8423, 8429, 8431, 8443, 8447, 8461, 8467, 8501, 8513, 8521, 8527, 8537, 8539, 8543, 8563, 8573, 8581, 8597, 8599, 8609, 8623, 8627, 8629, 8641, 8647, 8663, 8669, 8677, 8681, 8689, 8693, 8699, 8707, 8713, 8719, 8731, 8737, 8741, 8747, 8753, 8761, 8779, 8783, 8803, 8807, 8819, 8821, 8831, 8837, 8839, 8849, 8861, 8863, 8867, 8887, 8893, 8923, 8929, 8933, 8941, 8951, 8963, 8969, 8971, 8999, 9001, 9007, 9011, 9013, 9029, 9041, 9043, 9049, 9059, 9067, 9091, 9103, 9109, 9127, 9133, 9137, 9151, 9157, 9161, 9173, 9181, 9187, 9199, 9203, 9209, 9221, 9227, 9239, 9241, 9257, 9277, 9281, 9283, 9293, 9311, 9319, 9323, 9337, 9341, 9343, 9349, 9371, 9377, 9391, 9397, 9403, 9413, 9419, 9421, 9431, 9433, 9437, 9439, 9461, 9463, 9467, 9473, 9479, 9491, 9497, 9511, 9521, 9533, 9539, 9547, 9551, 9587, 9601, 9613, 9619, 9623, 9629, 9631, 9643, 9649, 9661, 9677, 9679, 9689, 9697, 9719, 9721, 9733, 9739, 9743, 9749, 9767, 9769, 9781, 9787, 9791, 9803, 9811, 9817, 9829, 9833, 9839, 9851, 9857, 9859, 9871, 9883, 9887, 9901, 9907, 9923, 9929, 9931, 9941, 9949, 9967, 9973]\n"
          ]
        }
      ]
    },
    {
      "cell_type": "markdown",
      "source": [
        "SECTION D"
      ],
      "metadata": {
        "id": "_NesgIrfznF5"
      }
    },
    {
      "cell_type": "markdown",
      "source": [
        "1. Write a python programme to find factorial of a number "
      ],
      "metadata": {
        "id": "okUNZ6fozraQ"
      }
    },
    {
      "cell_type": "code",
      "source": [
        "num=7\n",
        "factorial =1\n",
        "if num<0:\n",
        "  print(\"no factorial of negative number\")\n",
        "elif num==0:\n",
        "   print(\"factorial of 0 is 1\")\n",
        "else:\n",
        "   for i in range(1,num+1):\n",
        "     factorial=factorial*i\n",
        "   print(\"factorial of \",num, \"is\", factorial)   "
      ],
      "metadata": {
        "colab": {
          "base_uri": "https://localhost:8080/"
        },
        "id": "9Wu8A4wL3FLt",
        "outputId": "3f5630a0-e0c1-4f54-e21a-e67c165fa3bd"
      },
      "execution_count": 3,
      "outputs": [
        {
          "output_type": "stream",
          "name": "stdout",
          "text": [
            "factorial of  7 is 5040\n"
          ]
        }
      ]
    },
    {
      "cell_type": "markdown",
      "source": [
        "2. Write a python programme to display the multiplication table\n"
      ],
      "metadata": {
        "id": "EzAsAIm27JI2"
      }
    },
    {
      "cell_type": "code",
      "source": [
        "num=20\n",
        "for i in range (1,11):\n",
        "  print(num,'x',i,'=',num*1)"
      ],
      "metadata": {
        "colab": {
          "base_uri": "https://localhost:8080/"
        },
        "id": "Ep0q1Jhs7ZEw",
        "outputId": "5bf60dc9-a41f-40a3-cae6-ef3ff922f529"
      },
      "execution_count": 4,
      "outputs": [
        {
          "output_type": "stream",
          "name": "stdout",
          "text": [
            "20 x 1 = 20\n",
            "20 x 2 = 20\n",
            "20 x 3 = 20\n",
            "20 x 4 = 20\n",
            "20 x 5 = 20\n",
            "20 x 6 = 20\n",
            "20 x 7 = 20\n",
            "20 x 8 = 20\n",
            "20 x 9 = 20\n",
            "20 x 10 = 20\n"
          ]
        }
      ]
    },
    {
      "cell_type": "markdown",
      "source": [
        "3. Write a python program to print the fibonacci sequence"
      ],
      "metadata": {
        "id": "-Uv3hP-L76lY"
      }
    },
    {
      "cell_type": "code",
      "source": [
        "nterms=int(input(\"how many terms\"))\n",
        "n1,n2 =0,1\n",
        "count=0\n",
        "if nterms <=0:\n",
        "  print(\"please enter positive integer\")\n",
        "elif nterms==1:\n",
        "  print(\"fibonacci sequence is upto\",nterms,\":\")\n",
        "  print(n1)\n",
        "else: \n",
        "  print(\"fabonacci sequence :\") \n",
        "  while count< nterms:\n",
        "    print(n1)\n",
        "    nth=n1+n2\n",
        "    n1=n2\n",
        "    n2=nth\n",
        "    count +=1\n"
      ],
      "metadata": {
        "colab": {
          "base_uri": "https://localhost:8080/"
        },
        "id": "gcrd0fH38H44",
        "outputId": "1d306826-8ab8-4a19-cd7c-0b1577552ff7"
      },
      "execution_count": 5,
      "outputs": [
        {
          "output_type": "stream",
          "name": "stdout",
          "text": [
            "how many terms20\n",
            "fabonacci sequence :\n",
            "0\n",
            "1\n",
            "1\n",
            "2\n",
            "3\n",
            "5\n",
            "8\n",
            "13\n",
            "21\n",
            "34\n",
            "55\n",
            "89\n",
            "144\n",
            "233\n",
            "377\n",
            "610\n",
            "987\n",
            "1597\n",
            "2584\n",
            "4181\n"
          ]
        }
      ]
    },
    {
      "cell_type": "markdown",
      "source": [
        "4. Wrte a python programme to check armstrong number "
      ],
      "metadata": {
        "id": "52m4QurF-7bd"
      }
    },
    {
      "cell_type": "code",
      "source": [
        "n=int(input(\"enter the number\"))\n",
        "s=n #assigning input value to the s variable\n",
        "b=len(str(n))\n",
        "sum1=0\n",
        "while n!=0:\n",
        "  r=n%10 \n",
        "  sum1=sum1+(r**b)\n",
        "  n=n//10\n",
        "if s==sum1:\n",
        "  Print(\"the given number\",s,\"is armstrong number\")\n",
        "else:\n",
        "  print(\"the given number\",s,\"is not armstrong number\")\n",
        "      "
      ],
      "metadata": {
        "colab": {
          "base_uri": "https://localhost:8080/"
        },
        "id": "jRl8q0NZ_KJn",
        "outputId": "a4b032aa-a2f6-47b3-d201-cd07183680c4"
      },
      "execution_count": 9,
      "outputs": [
        {
          "output_type": "stream",
          "name": "stdout",
          "text": [
            "enter the number10\n",
            "the given number 10 is not armstrong number\n"
          ]
        }
      ]
    },
    {
      "cell_type": "markdown",
      "source": [
        "5. Write a python programme to find armstrong number in an  interval "
      ],
      "metadata": {
        "id": "zICqdPS5CAEz"
      }
    },
    {
      "cell_type": "code",
      "source": [
        "lower=100\n",
        "upper=2000\n",
        "for i in range(lower,upper+1):\n",
        "  order=len(str(num))\n",
        "  sum=0\n",
        "  temp=num\n",
        "  while temp>0:\n",
        "    digit=temp%10\n",
        "    sum +=digit**order\n",
        "    temp//=10\n",
        "  if num==sum:\n",
        "    print(num)    \n",
        "\n"
      ],
      "metadata": {
        "id": "R_GwvJ4mCSun"
      },
      "execution_count": 14,
      "outputs": []
    },
    {
      "cell_type": "markdown",
      "source": [
        "6.  Wrtite a python programme to find the sum of natural numbers\n"
      ],
      "metadata": {
        "id": "1I3KgLWTFAkX"
      }
    },
    {
      "cell_type": "code",
      "source": [
        "num=16\n",
        "if num<0:\n",
        "  print(\"enter the positive number\")\n",
        "else:\n",
        "  sum=0\n",
        "  while(num>0):\n",
        "    sum+=num\n",
        "    num-=1\n",
        "  print(\"the sum is \",sum)  \n"
      ],
      "metadata": {
        "colab": {
          "base_uri": "https://localhost:8080/"
        },
        "id": "_dg-Wn4bFgS1",
        "outputId": "3b858b45-ef34-4be4-d372-2791d38842dc"
      },
      "execution_count": 15,
      "outputs": [
        {
          "output_type": "stream",
          "name": "stdout",
          "text": [
            "the sum is  136\n"
          ]
        }
      ]
    },
    {
      "cell_type": "markdown",
      "source": [
        "SECTION E\n"
      ],
      "metadata": {
        "id": "bSKOfW6aG2xX"
      }
    },
    {
      "cell_type": "markdown",
      "source": [
        "1. Write a python progamme to find the sum of array"
      ],
      "metadata": {
        "id": "ZrfS1-FgG5HE"
      }
    },
    {
      "cell_type": "code",
      "source": [
        "arr=[1,2,3,4,5,6,7,8,9]\n",
        "sum=0\n",
        "\n",
        "for i in range (len(arr)):\n",
        "  sum=sum+arr[i]\n",
        "print(sum)  "
      ],
      "metadata": {
        "colab": {
          "base_uri": "https://localhost:8080/"
        },
        "id": "IHr9RRdGHoxg",
        "outputId": "e8144f48-4eb2-41fa-b4af-a31dd844ec63"
      },
      "execution_count": 16,
      "outputs": [
        {
          "output_type": "stream",
          "name": "stdout",
          "text": [
            "45\n"
          ]
        }
      ]
    },
    {
      "cell_type": "markdown",
      "source": [
        "2.Write a python progamme to find largest element in array"
      ],
      "metadata": {
        "id": "YfK78Pz5IQVF"
      }
    },
    {
      "cell_type": "code",
      "source": [
        " def largest(arr,n):\n",
        "     arr.sort()\n",
        "     return arr[n-1]\n",
        " arr=[10,324,45,90,9808]\n",
        " n=len(arr)\n",
        " Ans=largest(arr,n)\n",
        " print(\"largest in given array\",Ans) \n"
      ],
      "metadata": {
        "colab": {
          "base_uri": "https://localhost:8080/"
        },
        "id": "CZaFSMSgInZA",
        "outputId": "67fc1050-bc9c-4ba8-c275-765f3179a5f6"
      },
      "execution_count": 21,
      "outputs": [
        {
          "output_type": "stream",
          "name": "stdout",
          "text": [
            "largest in given array 9808\n"
          ]
        }
      ]
    },
    {
      "cell_type": "markdown",
      "source": [
        "3.Write a python progamme for array rotation"
      ],
      "metadata": {
        "id": "1oCP9Z83KQKJ"
      }
    },
    {
      "cell_type": "code",
      "source": [
        "def rotateArray(arr,n,d):\n",
        "  temp=[]\n",
        "  i=0\n",
        "  while(i<d):\n",
        "    temp.append(arr[i])\n",
        "    i=i+1\n",
        "  i=0\n",
        "  while (d<n):\n",
        "    arr[i]=arr[d]\n",
        "    i=i+1\n",
        "    d=d+1\n",
        "  arr[:]=arr[:i]+temp\n",
        "  return arr\n",
        "\n",
        "arr=[1,2,3,4,5,6,7] \n",
        "print(\"array after left rotation is:\",end='')\n",
        "print(rotateArray(arr,len(arr),2))     "
      ],
      "metadata": {
        "colab": {
          "base_uri": "https://localhost:8080/"
        },
        "id": "qWI1-ed9Kjfs",
        "outputId": "05fad15e-dcf3-4cac-fc53-c4b6b44a1302"
      },
      "execution_count": 22,
      "outputs": [
        {
          "output_type": "stream",
          "name": "stdout",
          "text": [
            "array after left rotation is:[3, 4, 5, 6, 7, 1, 2]\n"
          ]
        }
      ]
    },
    {
      "cell_type": "markdown",
      "source": [
        "4. Write a python programme to split array and first part to the end\n"
      ],
      "metadata": {
        "id": "Frwn7HRFOSqF"
      }
    },
    {
      "cell_type": "code",
      "source": [
        "def splitArr(arr,n,k):\n",
        "  for i in range(0,k):\n",
        "    x=arr[0]\n",
        "    for j in range(0,n-1):\n",
        "      arr[j]=arr[j+1]\n",
        "\n",
        "    arr[n-1]=x\n",
        "arr=[12,10,5,6,52,36]\n",
        "n=len(arr)\n",
        "position=2\n",
        "splitArr(arr,n,position)\n",
        "for i in range(0,n):\n",
        "    print(arr[i],end=' ')    \n"
      ],
      "metadata": {
        "colab": {
          "base_uri": "https://localhost:8080/"
        },
        "id": "p8JRVFh9OsOu",
        "outputId": "7ad5f252-7910-4f26-d6ba-02e9445b0f72"
      },
      "execution_count": 25,
      "outputs": [
        {
          "output_type": "stream",
          "name": "stdout",
          "text": [
            "5 6 52 36 12 10 "
          ]
        }
      ]
    },
    {
      "cell_type": "markdown",
      "source": [
        "5. Write a python programme to check if the given array is monotonic"
      ],
      "metadata": {
        "id": "WIB8X-CvQ-fI"
      }
    },
    {
      "cell_type": "code",
      "source": [
        "def isMonotonic(A):\n",
        "  return(all(A[i]<=A[i+1] for i in range (len(A)-1)) or\n",
        "         all(A[i]>=A[i+1] for i in range (len(A)-1)))\n",
        "A=[6,5,4,4]  \n",
        "print(isMonotonic(A))"
      ],
      "metadata": {
        "colab": {
          "base_uri": "https://localhost:8080/"
        },
        "id": "WVZGxVw8R1UT",
        "outputId": "89813b7a-c20f-4b77-f0c4-7588731be65d"
      },
      "execution_count": 26,
      "outputs": [
        {
          "output_type": "stream",
          "name": "stdout",
          "text": [
            "True\n"
          ]
        }
      ]
    },
    {
      "cell_type": "markdown",
      "source": [
        "SECTION F\n"
      ],
      "metadata": {
        "id": "gr48s2lJTJ_b"
      }
    },
    {
      "cell_type": "markdown",
      "source": [
        "1. Write a python programme to find sum of elements in the list "
      ],
      "metadata": {
        "id": "bEQVLAoyTM_A"
      }
    },
    {
      "cell_type": "code",
      "source": [
        "total=0\n",
        "list1=[15,25,45,250,78]\n",
        "for ele in range (0,len(list1)):\n",
        "    total=total+list1[ele]\n",
        "print(\"sum of all elements in the given list:\",total)   \n",
        "\n"
      ],
      "metadata": {
        "colab": {
          "base_uri": "https://localhost:8080/"
        },
        "id": "K7uxCHlbUWx4",
        "outputId": "7b8d4911-c2bc-40e4-e6b5-2cda211d0bf9"
      },
      "execution_count": 28,
      "outputs": [
        {
          "output_type": "stream",
          "name": "stdout",
          "text": [
            "sum of all elements in the given list: 413\n"
          ]
        }
      ]
    },
    {
      "cell_type": "markdown",
      "source": [
        "2. Write a python programme to multiply all elements in the list"
      ],
      "metadata": {
        "id": "quvJYsDnWVIe"
      }
    },
    {
      "cell_type": "code",
      "source": [
        "def multiplylist(mylist):\n",
        "  result=1\n",
        "  for x in mylist:\n",
        "    result=result*x\n",
        "  return result\n",
        "list1=[1,2,3]\n",
        "list2=[3,2,5]\n",
        "print(multiplylist(list1))\n",
        "print(multiplylist(list2))\n",
        "    "
      ],
      "metadata": {
        "colab": {
          "base_uri": "https://localhost:8080/"
        },
        "id": "KjTpxMteXIcT",
        "outputId": "fdba99a3-0377-492f-ed33-02f8e774ee0d"
      },
      "execution_count": 29,
      "outputs": [
        {
          "output_type": "stream",
          "name": "stdout",
          "text": [
            "6\n",
            "30\n"
          ]
        }
      ]
    },
    {
      "cell_type": "markdown",
      "source": [
        "3. Write a python programme to find smallest number in the list \n"
      ],
      "metadata": {
        "id": "8jzAScTkYLMZ"
      }
    },
    {
      "cell_type": "code",
      "source": [
        "list1=[50,35,75,85,65,10,25]\n",
        "list1.sort()\n",
        "print(\"smallest number is :\", list1[:1])"
      ],
      "metadata": {
        "colab": {
          "base_uri": "https://localhost:8080/"
        },
        "id": "kbIkXqbkYbkz",
        "outputId": "dc128cf5-0459-41fd-d4ff-596cdf45f169"
      },
      "execution_count": 33,
      "outputs": [
        {
          "output_type": "stream",
          "name": "stdout",
          "text": [
            "smallest number is : [10]\n"
          ]
        }
      ]
    },
    {
      "cell_type": "markdown",
      "source": [
        "4. Write a python programme to find largest number in a list"
      ],
      "metadata": {
        "id": "j8ugxAhtZXrN"
      }
    },
    {
      "cell_type": "code",
      "source": [
        "list1=[25,48,458,425,1256,124,85]\n",
        "list1.sort()\n",
        "print(\"largest number is \", list1[-1])"
      ],
      "metadata": {
        "colab": {
          "base_uri": "https://localhost:8080/"
        },
        "id": "qwh0fGrvZoe0",
        "outputId": "d47aa004-d52b-49f8-8749-6b9aab49c9ed"
      },
      "execution_count": 34,
      "outputs": [
        {
          "output_type": "stream",
          "name": "stdout",
          "text": [
            "largest number is  1256\n"
          ]
        }
      ]
    },
    {
      "cell_type": "markdown",
      "source": [
        "5. Write a python programme to find second largest number in the list"
      ],
      "metadata": {
        "id": "BlhmRXraaTrq"
      }
    },
    {
      "cell_type": "code",
      "source": [
        "list1=[25,21,35,658,75,214,556,89,452,469]\n",
        "list2=list(set(list1))\n",
        "list2.sort()\n",
        "print(\"second largest element is \",list2[-2])"
      ],
      "metadata": {
        "colab": {
          "base_uri": "https://localhost:8080/"
        },
        "id": "Mcs4qO1AajUq",
        "outputId": "82b3ecf6-cc0a-438d-f7e9-36b9e35590fe"
      },
      "execution_count": 35,
      "outputs": [
        {
          "output_type": "stream",
          "name": "stdout",
          "text": [
            "second largest element is  556\n"
          ]
        }
      ]
    },
    {
      "cell_type": "markdown",
      "source": [
        "6. Write a python progamme to find N largest elements from a list"
      ],
      "metadata": {
        "id": "uHOXUmppbY0y"
      }
    },
    {
      "cell_type": "code",
      "source": [
        "l=[100,230,3578,65,385925,56302,546,6233,85]\n",
        "n=4\n",
        "l.sort()\n",
        "print(l[-n:])"
      ],
      "metadata": {
        "colab": {
          "base_uri": "https://localhost:8080/"
        },
        "id": "dLMy5gVXbjt8",
        "outputId": "d4fec039-5046-495c-8193-ed73accaa603"
      },
      "execution_count": 37,
      "outputs": [
        {
          "output_type": "stream",
          "name": "stdout",
          "text": [
            "[3578, 6233, 56302, 385925]\n"
          ]
        }
      ]
    },
    {
      "cell_type": "markdown",
      "source": [
        "7. Write a python progamme to print even numbers in a list"
      ],
      "metadata": {
        "id": "p5xXpRwab7ye"
      }
    },
    {
      "cell_type": "code",
      "source": [
        "list1=[865,235,69,856,4258,12,359,78]\n",
        "for num in list1:\n",
        "  if num%2==0:\n",
        "    print(num,end=\" \")"
      ],
      "metadata": {
        "colab": {
          "base_uri": "https://localhost:8080/"
        },
        "id": "sYlk5GlfcGoN",
        "outputId": "c4a50ab2-a192-4094-f4cc-3c567ed6d03a"
      },
      "execution_count": 38,
      "outputs": [
        {
          "output_type": "stream",
          "name": "stdout",
          "text": [
            "856 4258 12 78 "
          ]
        }
      ]
    },
    {
      "cell_type": "markdown",
      "source": [
        "8. write a python programme to print odd numbers in the list"
      ],
      "metadata": {
        "id": "FtuZuciIcjHM"
      }
    },
    {
      "cell_type": "code",
      "source": [
        "list1=[865,45,968,125,967,236554,546,56,55,545]\n",
        "for num in list1:\n",
        "  if num%2!=0:\n",
        "    print(num,end=\" \")"
      ],
      "metadata": {
        "colab": {
          "base_uri": "https://localhost:8080/"
        },
        "id": "44Zs0lSYctmR",
        "outputId": "1be16492-6505-444a-e7b5-6ecd2f9cf488"
      },
      "execution_count": 39,
      "outputs": [
        {
          "output_type": "stream",
          "name": "stdout",
          "text": [
            "865 45 125 967 55 545 "
          ]
        }
      ]
    },
    {
      "cell_type": "markdown",
      "source": [
        "9. Write a python programme to remove empty list from the list"
      ],
      "metadata": {
        "id": "i9-d02z7dXcy"
      }
    },
    {
      "cell_type": "code",
      "source": [
        "test_list=[5,6,[],3,[],[],35,[]]\n",
        "print(\"the original list is :\" + str(test_list))\n",
        "while [] in test_list:\n",
        "  test_list.remove([])\n",
        "print(\"list after empty list removal:\" +str(test_list))  "
      ],
      "metadata": {
        "colab": {
          "base_uri": "https://localhost:8080/"
        },
        "id": "FGtkNG9Pdj-4",
        "outputId": "3134386b-33a4-4922-ed16-200ce3aae8b7"
      },
      "execution_count": 40,
      "outputs": [
        {
          "output_type": "stream",
          "name": "stdout",
          "text": [
            "the original list is :[5, 6, [], 3, [], [], 35, []]\n",
            "list after empty list removal:[5, 6, 3, 35]\n"
          ]
        }
      ]
    },
    {
      "cell_type": "markdown",
      "source": [
        "10.write a python program to cloning or copying a list"
      ],
      "metadata": {
        "id": "svWGR8A0fJWJ"
      }
    },
    {
      "cell_type": "code",
      "source": [
        "def cloning(li1):\n",
        "  li_copy=li1[:]\n",
        "  return li_copy\n",
        "li1=[4,25,638,12,45,8,5,56]\n",
        "li2=cloning(li1)\n",
        "print(\"original list:\",li1)\n",
        "print(\"after list\",li2)  "
      ],
      "metadata": {
        "colab": {
          "base_uri": "https://localhost:8080/"
        },
        "id": "0qHzckEpfgw7",
        "outputId": "a6bba842-10f8-4569-8580-88bf61e1661c"
      },
      "execution_count": 41,
      "outputs": [
        {
          "output_type": "stream",
          "name": "stdout",
          "text": [
            "original list: [4, 25, 638, 12, 45, 8, 5, 56]\n",
            "after list [4, 25, 638, 12, 45, 8, 5, 56]\n"
          ]
        }
      ]
    },
    {
      "cell_type": "markdown",
      "source": [
        "11. write a python programme to count occurence of element in a list"
      ],
      "metadata": {
        "id": "rgwvVqMcgkJr"
      }
    },
    {
      "cell_type": "code",
      "source": [
        "def countX(lst,x):\n",
        "  count=0\n",
        "  for ele in lst:\n",
        "    if (ele==x):\n",
        "      count=count +1\n",
        "    return count\n",
        "lst=[8,5,8,5,4,6,8,5,2,3,8,2,7]     \n",
        "x=8\n",
        "print('{} has occured {} times'.format(x,countX(lst,x)))\n",
        "                                            "
      ],
      "metadata": {
        "colab": {
          "base_uri": "https://localhost:8080/"
        },
        "id": "x-09QPlzgwjl",
        "outputId": "88f8b986-8c27-45d1-b6d7-e4413dbacbb8"
      },
      "execution_count": 47,
      "outputs": [
        {
          "output_type": "stream",
          "name": "stdout",
          "text": [
            "8 has occured 1 times\n"
          ]
        }
      ]
    }
  ]
}