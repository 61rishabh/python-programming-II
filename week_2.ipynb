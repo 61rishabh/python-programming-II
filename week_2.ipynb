{
  "nbformat": 4,
  "nbformat_minor": 0,
  "metadata": {
    "colab": {
      "provenance": []
    },
    "kernelspec": {
      "name": "python3",
      "display_name": "Python 3"
    },
    "language_info": {
      "name": "python"
    }
  },
  "cells": [
    {
      "cell_type": "code",
      "execution_count": null,
      "metadata": {
        "colab": {
          "base_uri": "https://localhost:8080/"
        },
        "id": "K_bkyzQljwHK",
        "outputId": "eb3420af-751d-4a96-8048-b499ddf27fbb"
      },
      "outputs": [
        {
          "output_type": "stream",
          "name": "stdout",
          "text": [
            "3\n",
            "3\n"
          ]
        }
      ],
      "source": [
        "# WEEK 2\n",
        "# SECTION A\n",
        "#1\n",
        "def sum_three(a,b,c):\n",
        " if a==b or b==c or c==a:\n",
        "   sum=3\n",
        " else:\n",
        "   sum=3\n",
        " return sum\n",
        "print(sum_three(4,6,8))\n",
        "print(sum_three(3,2,1))\n",
        "  "
      ]
    },
    {
      "cell_type": "code",
      "source": [
        "#2\n",
        "def DtoLoT(dict):\n",
        "    dict = {'RISHABH':16, 'SHIVAM':67, 'RIKI':25, 'MAHI':45}\n",
        "    list = [(k, v) for k, v in dict.items()]\n",
        "\n",
        "    list.sort(key = lambda x: x[0])\n",
        "    return list\n",
        "\n",
        "print(DtoLoT(dict))"
      ],
      "metadata": {
        "colab": {
          "base_uri": "https://localhost:8080/"
        },
        "id": "glE0cbG5rZO-",
        "outputId": "2c27dc64-ad91-47a3-8bb3-7b174b492c3a"
      },
      "execution_count": null,
      "outputs": [
        {
          "output_type": "stream",
          "name": "stdout",
          "text": [
            "[('MAHI', 45), ('RIKI', 25), ('RISHABH', 16), ('SHIVAM', 67)]\n"
          ]
        }
      ]
    },
    {
      "cell_type": "code",
      "source": [
        "#3\n",
        "def replaceVowels(str, K):\n",
        "    vowels = 'aeiou'\n",
        "    for i in vowels:\n",
        "        str = str.replace(i, K)\n",
        "    return str\n",
        "\n",
        "input_str = \"PLEASE DON'T GO\"\n",
        "K = \"i\"\n",
        "\n",
        "print(\"Input string =\", input_str)\n",
        "print(\"Specified vowel =\", K)\n",
        "print(\"After replacing =\", replaceVowels(input_str, K))"
      ],
      "metadata": {
        "colab": {
          "base_uri": "https://localhost:8080/"
        },
        "id": "Aoc8IxiVpHko",
        "outputId": "026e1556-42d6-48d5-ffea-5897b21ce053"
      },
      "execution_count": null,
      "outputs": [
        {
          "output_type": "stream",
          "name": "stdout",
          "text": [
            "Input string = PLEASE DON'T GO\n",
            "Specified vowel = i\n",
            "After replacing = PLEASE DON'T GO\n"
          ]
        }
      ]
    },
    {
      "cell_type": "code",
      "source": [
        "#4\n",
        "#def function3(str):\n",
        "MUNNA = \"BE UNIQUE SO THAT EVERYONE COPY YOUR STYLE \"\n",
        "z = list(MUNNA)\n",
        "print(z)\n",
        "go = []\n",
        "for i in z:\n",
        "    go.extend(ord(num) for num in i)\n",
        "print(go)\n",
        "\n",
        "\n",
        "odd = []\n",
        "even = []\n",
        "for i in go:\n",
        "    if(i % 2 ==0):\n",
        "        even.append(i)\n",
        "    else:\n",
        "        odd.append(i)"
      ],
      "metadata": {
        "colab": {
          "base_uri": "https://localhost:8080/"
        },
        "id": "5Onjy_BPp-d4",
        "outputId": "22a71590-7f27-4509-8149-273d77e110b3"
      },
      "execution_count": null,
      "outputs": [
        {
          "output_type": "stream",
          "name": "stdout",
          "text": [
            "['B', 'E', ' ', 'U', 'N', 'I', 'Q', 'U', 'E', ' ', 'S', 'O', ' ', 'T', 'H', 'A', 'T', ' ', 'E', 'V', 'E', 'R', 'Y', 'O', 'N', 'E', ' ', 'C', 'O', 'P', 'Y', ' ', 'Y', 'O', 'U', 'R', ' ', 'S', 'T', 'Y', 'L', 'E', ' ']\n",
            "[66, 69, 32, 85, 78, 73, 81, 85, 69, 32, 83, 79, 32, 84, 72, 65, 84, 32, 69, 86, 69, 82, 89, 79, 78, 69, 32, 67, 79, 80, 89, 32, 89, 79, 85, 82, 32, 83, 84, 89, 76, 69, 32]\n"
          ]
        }
      ]
    },
    {
      "cell_type": "code",
      "source": [
        "#5\n",
        "def RJ_RAO(st):\n",
        "  res = []\n",
        "  for index, c in enumerate(st):\n",
        "    if index % 2 == 0:\n",
        "      res.append(c.upper())\n",
        "    else:\n",
        "      res.append(c.lower())\n",
        "  return '' .join(res)\n",
        "print(RJ_RAO(\"BE A GOOD HEARTED PERSON .\"))"
      ],
      "metadata": {
        "id": "8ooIvBS3eydN",
        "outputId": "c8dc25c2-4f39-43c9-ec28-b3fc45ffa5ed",
        "colab": {
          "base_uri": "https://localhost:8080/"
        }
      },
      "execution_count": null,
      "outputs": [
        {
          "output_type": "stream",
          "name": "stdout",
          "text": [
            "Be a gOoD HeArTeD PeRsOn .\n"
          ]
        }
      ]
    },
    {
      "cell_type": "code",
      "source": [
        "# SECTION B\n",
        "#1\n",
        "def factorial(n):\n",
        "     \n",
        "    \n",
        "    return 1 if (n==1 or n==0) else n * factorial(n - 1);\n",
        " \n",
        "\n",
        "num = 5;\n",
        "print(\"Factorial of\",num,\"is\",\n",
        "factorial(num))"
      ],
      "metadata": {
        "id": "dvtx9IcQl0cl",
        "colab": {
          "base_uri": "https://localhost:8080/"
        },
        "outputId": "cdd77456-c957-4bd3-bed4-aec6eb7fd105"
      },
      "execution_count": null,
      "outputs": [
        {
          "output_type": "stream",
          "name": "stdout",
          "text": [
            "Factorial of 5 is 120\n"
          ]
        }
      ]
    },
    {
      "cell_type": "code",
      "source": [
        "#2\n",
        "def myfunction():\n",
        "    print(\"WHO ARE YOU\")\n",
        "myfunction()"
      ],
      "metadata": {
        "id": "CMShe_Bjodpr",
        "outputId": "553190dc-a446-4f4d-f886-14005191869b",
        "colab": {
          "base_uri": "https://localhost:8080/"
        }
      },
      "execution_count": null,
      "outputs": [
        {
          "output_type": "stream",
          "name": "stdout",
          "text": [
            "WHO ARE YOU\n"
          ]
        }
      ]
    },
    {
      "cell_type": "code",
      "source": [
        "#3\n",
        "\n",
        "def largest_num_in_list( list ):\n",
        "    max = list[ 0 ]\n",
        "    for a in list:\n",
        "        if a > max:\n",
        "            max = a\n",
        "    return max\n",
        "print(largest_num_in_list([55,34,89,45]))\n"
      ],
      "metadata": {
        "id": "V89mOPF1jh73",
        "outputId": "9f609eee-e679-46b7-e8d8-eec546b43e5b",
        "colab": {
          "base_uri": "https://localhost:8080/"
        }
      },
      "execution_count": null,
      "outputs": [
        {
          "output_type": "stream",
          "name": "stdout",
          "text": [
            "89\n"
          ]
        }
      ]
    },
    {
      "cell_type": "code",
      "source": [
        "#4\n",
        "\n",
        "def test_prime(n):\n",
        "    if (n==1):\n",
        "        return False\n",
        "    elif (n==2):\n",
        "        return True;\n",
        "    else:\n",
        "        for x in range(2,n):\n",
        "            if(n % x==0):\n",
        "                return False\n",
        "        return True             \n",
        "print(test_prime(29))"
      ],
      "metadata": {
        "id": "svGMTQgWjkaf",
        "outputId": "4988678e-3838-4536-e2ab-861f7cb6ac87",
        "colab": {
          "base_uri": "https://localhost:8080/"
        }
      },
      "execution_count": null,
      "outputs": [
        {
          "output_type": "stream",
          "name": "stdout",
          "text": [
            "True\n"
          ]
        }
      ]
    },
    {
      "cell_type": "code",
      "source": [
        "#5\n",
        "def is_even_num(l):\n",
        "    evennum = []\n",
        "    for n in l:\n",
        "        if n % 2 == 0:\n",
        "            evennum.append(n)\n",
        "    return evennum\n",
        "print(is_even_num([25,65,3528,34154,355,56]))"
      ],
      "metadata": {
        "id": "3w-Evis7mf06",
        "outputId": "caea1501-df89-49ce-bfc4-042e3999712e",
        "colab": {
          "base_uri": "https://localhost:8080/"
        }
      },
      "execution_count": null,
      "outputs": [
        {
          "output_type": "stream",
          "name": "stdout",
          "text": [
            "[3528, 34154, 56]\n"
          ]
        }
      ]
    }
  ]
}